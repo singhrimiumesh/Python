{
  "nbformat": 4,
  "nbformat_minor": 0,
  "metadata": {
    "colab": {
      "provenance": [],
      "authorship_tag": "ABX9TyMAhpRf8KMc9+TaBz3WcjGB"
    },
    "kernelspec": {
      "name": "python3",
      "display_name": "Python 3"
    },
    "language_info": {
      "name": "python"
    }
  },
  "cells": [
    {
      "cell_type": "code",
      "execution_count": null,
      "metadata": {
        "id": "421S6rd8orj0"
      },
      "outputs": [],
      "source": [
        "import numpy as np"
      ]
    },
    {
      "cell_type": "code",
      "source": [
        "# Create an array from a list\n",
        "arr1 = np.array([1, 2, 3, 4, 5])\n",
        "print(arr1)\n"
      ],
      "metadata": {
        "colab": {
          "base_uri": "https://localhost:8080/"
        },
        "id": "REibQc-Kq55T",
        "outputId": "1bc5fa41-9d77-44c9-df5d-fe362635332c"
      },
      "execution_count": null,
      "outputs": [
        {
          "output_type": "stream",
          "name": "stdout",
          "text": [
            "[1 2 3 4 5]\n"
          ]
        }
      ]
    },
    {
      "cell_type": "code",
      "source": [
        "# Create a 2D array (matrix)\n",
        "arr2 = np.array([[1, 2, 3], [4, 5, 6]])\n",
        "print(arr2)\n"
      ],
      "metadata": {
        "colab": {
          "base_uri": "https://localhost:8080/"
        },
        "id": "1e4DxgCGrjlX",
        "outputId": "5ae53b42-e04d-4aec-a8ee-b8882ca78a63"
      },
      "execution_count": null,
      "outputs": [
        {
          "output_type": "stream",
          "name": "stdout",
          "text": [
            "[[1 2 3]\n",
            " [4 5 6]]\n"
          ]
        }
      ]
    },
    {
      "cell_type": "code",
      "source": [
        "# Create an array of zeros\n",
        "zeros = np.zeros((3, 3))\n",
        "print(zeros)\n"
      ],
      "metadata": {
        "colab": {
          "base_uri": "https://localhost:8080/"
        },
        "id": "vAavPVAErtId",
        "outputId": "19d612e7-dace-442e-b33a-217ca5e97da1"
      },
      "execution_count": null,
      "outputs": [
        {
          "output_type": "stream",
          "name": "stdout",
          "text": [
            "[[0. 0. 0.]\n",
            " [0. 0. 0.]\n",
            " [0. 0. 0.]]\n"
          ]
        }
      ]
    },
    {
      "cell_type": "code",
      "source": [
        "# Create an array of ones\n",
        "ones = np.ones((2, 4))\n",
        "print(ones)\n"
      ],
      "metadata": {
        "colab": {
          "base_uri": "https://localhost:8080/"
        },
        "id": "Fkf2H8JBrye4",
        "outputId": "649de849-f7d7-4b7b-c090-9cee34a01bf7"
      },
      "execution_count": null,
      "outputs": [
        {
          "output_type": "stream",
          "name": "stdout",
          "text": [
            "[[1. 1. 1. 1.]\n",
            " [1. 1. 1. 1.]]\n"
          ]
        }
      ]
    },
    {
      "cell_type": "code",
      "source": [
        "# Create an array of random numbers\n",
        "random_arr = np.random.rand(3, 3)\n",
        "print(random_arr)"
      ],
      "metadata": {
        "colab": {
          "base_uri": "https://localhost:8080/"
        },
        "id": "1EN3GI1WsU_X",
        "outputId": "c16eea3f-d985-4e72-b48f-d2baf0984fa4"
      },
      "execution_count": null,
      "outputs": [
        {
          "output_type": "stream",
          "name": "stdout",
          "text": [
            "[[0.41088927 0.50464284 0.18182417]\n",
            " [0.2749521  0.35929297 0.561526  ]\n",
            " [0.05947655 0.05342476 0.71187154]]\n"
          ]
        }
      ]
    },
    {
      "cell_type": "code",
      "source": [
        "# Create an array with a range of values\n",
        "range_arr = np.arange(0, 10, 2)\n",
        "print(range_arr)\n"
      ],
      "metadata": {
        "colab": {
          "base_uri": "https://localhost:8080/"
        },
        "id": "qbZpQ00ysdml",
        "outputId": "d9cd79bd-9270-40b3-93df-6fa0e84358a2"
      },
      "execution_count": null,
      "outputs": [
        {
          "output_type": "stream",
          "name": "stdout",
          "text": [
            "[0 2 4 6 8]\n"
          ]
        }
      ]
    },
    {
      "cell_type": "code",
      "source": [
        "# Create an array with evenly spaced values\n",
        "lin_space_arr = np.linspace(0, 10, 5)\n",
        "print(lin_space_arr)"
      ],
      "metadata": {
        "colab": {
          "base_uri": "https://localhost:8080/"
        },
        "id": "bWNwaFHqsq4p",
        "outputId": "d48b2482-6c9e-4493-bfcf-aad9fc3b4fd7"
      },
      "execution_count": null,
      "outputs": [
        {
          "output_type": "stream",
          "name": "stdout",
          "text": [
            "[ 0.   2.5  5.   7.5 10. ]\n"
          ]
        }
      ]
    },
    {
      "cell_type": "code",
      "source": [
        "arr1 = np.array([1, 2, 3, 4, 5])\n",
        "arr2 = np.array([2, 3, 4, 5, 6])\n",
        "\n",
        "# Element-wise operations\n",
        "arr3 = arr1 + arr2\n",
        "arr4 = arr1 * 2\n",
        "print(arr3)\n",
        "print(arr4)"
      ],
      "metadata": {
        "colab": {
          "base_uri": "https://localhost:8080/"
        },
        "id": "kNhao5Dksys6",
        "outputId": "6e3d6871-cd47-4c15-acd9-b84d1948b4f7"
      },
      "execution_count": null,
      "outputs": [
        {
          "output_type": "stream",
          "name": "stdout",
          "text": [
            "[ 3  5  7  9 11]\n",
            "[ 2  4  6  8 10]\n"
          ]
        }
      ]
    },
    {
      "cell_type": "code",
      "source": [
        "# Matrix multiplication\n",
        "mat_mul = np.dot(arr2, arr2.T)\n",
        "print(mat_mul)"
      ],
      "metadata": {
        "colab": {
          "base_uri": "https://localhost:8080/"
        },
        "id": "OyukdxqAtOCx",
        "outputId": "04af7449-a16c-40fe-b2ea-3c59fe73f314"
      },
      "execution_count": null,
      "outputs": [
        {
          "output_type": "stream",
          "name": "stdout",
          "text": [
            "90\n"
          ]
        }
      ]
    },
    {
      "cell_type": "code",
      "source": [
        "# Sum, min, max, mean\n",
        "total = arr1.sum()\n",
        "min_val = arr2.min()\n",
        "max_val = arr2.max()\n",
        "mean_val = arr2.mean()\n",
        "\n",
        "print(total)\n",
        "print(min_val)\n",
        "print(max_val)\n",
        "print(mean_val)\n"
      ],
      "metadata": {
        "colab": {
          "base_uri": "https://localhost:8080/"
        },
        "id": "J_Lxxr6EugaH",
        "outputId": "bf873d88-ca91-4a6d-ccbe-e802947f83fd"
      },
      "execution_count": null,
      "outputs": [
        {
          "output_type": "stream",
          "name": "stdout",
          "text": [
            "15\n",
            "2\n",
            "6\n",
            "4.0\n"
          ]
        }
      ]
    },
    {
      "cell_type": "code",
      "source": [
        "# Reshape array\n",
        "reshaped_arr = arr1.reshape(5, 1)\n",
        "print(reshaped_arr)"
      ],
      "metadata": {
        "colab": {
          "base_uri": "https://localhost:8080/"
        },
        "id": "6vc9s7Y6vALC",
        "outputId": "31f8ead0-444a-4956-be04-7cd3b5f2c06e"
      },
      "execution_count": null,
      "outputs": [
        {
          "output_type": "stream",
          "name": "stdout",
          "text": [
            "[[1]\n",
            " [2]\n",
            " [3]\n",
            " [4]\n",
            " [5]]\n"
          ]
        }
      ]
    },
    {
      "cell_type": "code",
      "source": [
        "# Transpose array\n",
        "transposed_arr = arr2.T\n",
        "print(transposed_arr)"
      ],
      "metadata": {
        "colab": {
          "base_uri": "https://localhost:8080/"
        },
        "id": "GR2YeNk0vNG7",
        "outputId": "88e39ebc-aa4c-4272-823f-5a7edf0cd3ce"
      },
      "execution_count": null,
      "outputs": [
        {
          "output_type": "stream",
          "name": "stdout",
          "text": [
            "[2 3 4 5 6]\n"
          ]
        }
      ]
    },
    {
      "cell_type": "code",
      "source": [
        "# Concatenate arrays\n",
        "concatenated_arr = np.concatenate((arr1, arr2.flatten()))\n",
        "print(concatenated_arr)\n"
      ],
      "metadata": {
        "colab": {
          "base_uri": "https://localhost:8080/"
        },
        "id": "S-Ob-LeHvS0R",
        "outputId": "f1699e11-93d2-41bc-a0e1-f1d032d85f81"
      },
      "execution_count": null,
      "outputs": [
        {
          "output_type": "stream",
          "name": "stdout",
          "text": [
            "[1 2 3 4 5 2 3 4 5 6]\n"
          ]
        }
      ]
    },
    {
      "cell_type": "code",
      "source": [
        "# Split array\n",
        "split_arr = np.split(arr1, 5)\n",
        "print(split_arr)"
      ],
      "metadata": {
        "colab": {
          "base_uri": "https://localhost:8080/"
        },
        "id": "Yo22LTvKvmw7",
        "outputId": "a76acd22-1e10-4377-b108-b033a3907376"
      },
      "execution_count": null,
      "outputs": [
        {
          "output_type": "stream",
          "name": "stdout",
          "text": [
            "[array([1]), array([2]), array([3]), array([4]), array([5])]\n"
          ]
        }
      ]
    },
    {
      "cell_type": "code",
      "source": [
        "# Trigonometric functions\n",
        "sin_arr = np.sin(arr1)\n",
        "print(sin_arr)"
      ],
      "metadata": {
        "colab": {
          "base_uri": "https://localhost:8080/"
        },
        "id": "3x3eH2mKvsgx",
        "outputId": "fb3dce1a-c64b-4974-ddf1-c4268f4f1d39"
      },
      "execution_count": null,
      "outputs": [
        {
          "output_type": "stream",
          "name": "stdout",
          "text": [
            "[ 0.84147098  0.90929743  0.14112001 -0.7568025  -0.95892427]\n"
          ]
        }
      ]
    },
    {
      "cell_type": "code",
      "source": [
        "# Exponential and logarithmic functions\n",
        "exp_arr = np.exp(arr1)\n",
        "log_arr = np.log(arr1)\n",
        "print(exp_arr)\n",
        "print(log_arr)"
      ],
      "metadata": {
        "colab": {
          "base_uri": "https://localhost:8080/"
        },
        "id": "Pi_bkFTHv9ph",
        "outputId": "8a9ff4ee-30ee-4124-91c6-e5e7a36337c4"
      },
      "execution_count": null,
      "outputs": [
        {
          "output_type": "stream",
          "name": "stdout",
          "text": [
            "[  2.71828183   7.3890561   20.08553692  54.59815003 148.4131591 ]\n",
            "[0.         0.69314718 1.09861229 1.38629436 1.60943791]\n"
          ]
        }
      ]
    },
    {
      "cell_type": "code",
      "source": [
        "# Statistical functions\n",
        "std_dev = np.std(arr2)\n",
        "variance = np.var(arr2)\n",
        "print(std_dev)\n",
        "print(variance)"
      ],
      "metadata": {
        "colab": {
          "base_uri": "https://localhost:8080/"
        },
        "id": "4EqOYGXXwABm",
        "outputId": "3dc1713c-d5f6-47fb-e32b-6ff4ae503fc5"
      },
      "execution_count": null,
      "outputs": [
        {
          "output_type": "stream",
          "name": "stdout",
          "text": [
            "1.4142135623730951\n",
            "2.0\n"
          ]
        }
      ]
    },
    {
      "cell_type": "code",
      "source": [
        "# Generate random numbers\n",
        "rand_int = np.random.randint(1, 10)\n",
        "print(rand_int)\n",
        "rand_uniform = np.random.rand(3, 3)\n",
        "print(rand_uniform)"
      ],
      "metadata": {
        "colab": {
          "base_uri": "https://localhost:8080/"
        },
        "id": "3a7uL18PwZ5p",
        "outputId": "786b597e-7e29-4947-ec44-2e30c63c3e1e"
      },
      "execution_count": null,
      "outputs": [
        {
          "output_type": "stream",
          "name": "stdout",
          "text": [
            "2\n",
            "[[0.94538356 0.29803952 0.78155665]\n",
            " [0.03520118 0.7840017  0.79141054]\n",
            " [0.20935633 0.385664   0.24254967]]\n"
          ]
        }
      ]
    },
    {
      "cell_type": "code",
      "source": [],
      "metadata": {
        "id": "W4g7NP-3wpNJ"
      },
      "execution_count": null,
      "outputs": []
    }
  ]
}